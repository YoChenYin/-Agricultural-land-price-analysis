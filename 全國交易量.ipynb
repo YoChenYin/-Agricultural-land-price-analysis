{
 "cells": [
  {
   "cell_type": "code",
   "execution_count": 24,
   "metadata": {},
   "outputs": [],
   "source": [
    "%matplotlib inline\n",
    "import numpy as np\n",
    "import matplotlib.pyplot as plt\n",
    "import pandas as pd\n",
    "import matplotlib as  mpl"
   ]
  },
  {
   "cell_type": "code",
   "execution_count": 25,
   "metadata": {},
   "outputs": [],
   "source": [
    "mpl.rcParams[u'font.sans-serif'] = ['simhei']\n",
    "mpl.rcParams['axes.unicode_minus'] = False"
   ]
  },
  {
   "cell_type": "code",
   "execution_count": 26,
   "metadata": {},
   "outputs": [],
   "source": [
    "def readData(y,s,c):\n",
    "    df = pd.read_csv(\"lvr_land/\"+ y +\"-s\" + s + \"/\" + c + \"_lvr_land_A.csv\",encoding='utf-8',low_memory=False)\n",
    "    return df"
   ]
  },
  {
   "cell_type": "code",
   "execution_count": 27,
   "metadata": {},
   "outputs": [],
   "source": [
    "def combineDF(df1,df2):\n",
    "    df = pd.concat([df1,df2],axis = 0)\n",
    "    return df"
   ]
  },
  {
   "cell_type": "code",
   "execution_count": 28,
   "metadata": {},
   "outputs": [],
   "source": [
    "def selectFarmland(df):\n",
    "    \n",
    "    df = df[[\"鄉鎮市區\",\"土地移轉總面積(平方公尺)\",\"交易標的\",\"都市土地使用分區\",\"非都市土地使用分區\",\"非都市土地使用編定\",\"總價(元)\",\"單價(元/平方公尺)\"]]\n",
    "    df_farmland = df[((df.交易標的 == \"土地\")&(((df.都市土地使用分區 ==\"農\")&(df.非都市土地使用編定 !=\"丁種建築用地\"))| ((df.非都市土地使用分區 == \"一般農業區\")& (df.非都市土地使用編定 !=\"丁種建築用地\"))|((df.非都市土地使用分區 == '特定農業區')& (df.非都市土地使用編定 !=\"丁種建築用地\")))) ]\n",
    "    \n",
    "    return df_farmland"
   ]
  },
  {
   "cell_type": "code",
   "execution_count": 29,
   "metadata": {},
   "outputs": [],
   "source": [
    "def fillNanprice(df_farmland):\n",
    "    #modify zero or nan price\n",
    "    df_ok = df_farmland[(df_farmland[\"單價(元/平方公尺)\"].notnull())&(df_farmland[\"單價(元/平方公尺)\"] != \"0\")]\n",
    "    df = df_farmland[(df_farmland[\"單價(元/平方公尺)\"].isnull())|(df_farmland[\"單價(元/平方公尺)\"] == \"0\")]\n",
    "    df = df[(df['土地移轉總面積(平方公尺)'] != \"0\")&(df['總價(元)'] != \"0\")]\n",
    "    df[\"單價(元/平方公尺)\"] = calculateprice(df['總價(元)'],df['土地移轉總面積(平方公尺)'])\n",
    "    df_farmland = pd.concat([df_ok,df],axis = 0)\n",
    "    return df_farmland"
   ]
  },
  {
   "cell_type": "code",
   "execution_count": 30,
   "metadata": {},
   "outputs": [],
   "source": [
    "def transcationNum(df):\n",
    "    return df['鄉鎮市區'].count()"
   ]
  },
  {
   "cell_type": "code",
   "execution_count": 31,
   "metadata": {},
   "outputs": [],
   "source": [
    "def calculateprice(total_price,area):\n",
    "    return pd.to_numeric(total_price)/pd.to_numeric(area)"
   ]
  },
  {
   "cell_type": "code",
   "execution_count": 32,
   "metadata": {},
   "outputs": [],
   "source": [
    "def totalcalculate(key): \n",
    "    value = sum(key.values())   \n",
    "    return value"
   ]
  },
  {
   "cell_type": "code",
   "execution_count": 33,
   "metadata": {},
   "outputs": [],
   "source": [
    "list_cityfilename = ['A','B','C','D','E','F','G','H','I','J','K','M','N','O','P','Q','T','U','V','W','X','Z']\n",
    "list_city = ['台北市','台中市','基隆市','台南市','高雄市','新北市','宜蘭縣','桃園縣','嘉義市','新竹縣','苗栗縣','南投縣','彰化縣','新竹市','雲林縣','嘉義縣','屏東縣','花蓮縣','台東縣','金門縣','澎湖縣','連江縣']\n",
    "\n",
    "i=0\n",
    "taiwan_transacation = {}\n",
    "for c in list_cityfilename: #every city\n",
    "    \n",
    "    s = 4 # from 101-s4 to 107-s2\n",
    "    town_tran_dist = {}\n",
    "    for y in range(101,108): #every year\n",
    "        \n",
    "        df = pd.DataFrame()\n",
    "        \n",
    "        while s <= 4:\n",
    "            # read data\n",
    "            df_s =  readData(str(y),str(s),c)\n",
    "            df = combineDF(df,df_s)\n",
    "\n",
    "            if y == 107 and s == 2:\n",
    "                break\n",
    "            s = s+1\n",
    "        s=1\n",
    "        # select farmland\n",
    "        df_farmland = selectFarmland(df)\n",
    "        # fill nan price\n",
    "        df_farmland = fillNanprice(df_farmland)\n",
    "        \n",
    "        town_tran_dist[y] = transcationNum(df_farmland)\n",
    "    taiwan_transacation[list_city[i]]=town_tran_dist\n",
    "\n",
    "    i = i+1\n"
   ]
  },
  {
   "cell_type": "code",
   "execution_count": 34,
   "metadata": {
    "scrolled": true
   },
   "outputs": [
    {
     "name": "stdout",
     "output_type": "stream",
     "text": [
      "|1|桃園縣/1760|桃園縣/10769|桃園縣/6479|台南市/4119|台南市/3114|台南市/4047|台南市/1774|\n",
      "|2|台中市/815|台南市/4924|台南市/4896|彰化縣/3540|桃園縣/2942|桃園縣/3292|桃園縣/1487|\n",
      "|3|台南市/736|台中市/4185|彰化縣/3914|桃園縣/3536|彰化縣/2648|彰化縣/3112|雲林縣/1417|\n",
      "|4|屏東縣/721|彰化縣/4042|台中市/3780|屏東縣/2937|雲林縣/2482|屏東縣/2825|彰化縣/1391|\n",
      "|5|彰化縣/658|高雄市/3181|屏東縣/3108|台中市/2824|屏東縣/2438|雲林縣/2757|屏東縣/1241|\n",
      "|6|高雄市/521|屏東縣/3131|宜蘭縣/3074|雲林縣/2579|台中市/1832|台中市/2261|南投縣/1173|\n",
      "|7|雲林縣/473|雲林縣/2590|高雄市/2716|高雄市/2331|高雄市/1741|高雄市/2170|台中市/1043|\n",
      "|8|嘉義縣/380|新竹縣/2075|雲林縣/2704|宜蘭縣/2031|嘉義縣/1621|嘉義縣/1667|高雄市/926|\n",
      "|9|新竹縣/371|南投縣/2053|花蓮縣/2178|嘉義縣/1791|宜蘭縣/1129|南投縣/1017|嘉義縣/775|\n",
      "|10|南投縣/338|宜蘭縣/1967|嘉義縣/1795|花蓮縣/1598|南投縣/1105|宜蘭縣/927|宜蘭縣/414|\n",
      "|11|宜蘭縣/317|嘉義縣/1847|南投縣/1742|南投縣/1551|花蓮縣/845|苗栗縣/838|新竹縣/338|\n",
      "|12|花蓮縣/311|苗栗縣/1813|苗栗縣/1518|苗栗縣/1154|苗栗縣/797|花蓮縣/715|苗栗縣/325|\n",
      "|13|苗栗縣/265|花蓮縣/1685|新竹縣/1469|新竹縣/1093|新竹縣/787|新竹縣/655|花蓮縣/312|\n",
      "|14|新北市/192|新北市/1200|新北市/1065|新北市/968|澎湖縣/660|新北市/547|新北市/263|\n",
      "|15|金門縣/110|澎湖縣/938|澎湖縣/706|澎湖縣/670|新北市/619|澎湖縣/431|澎湖縣/204|\n",
      "|16|台東縣/104|金門縣/871|台東縣/679|台東縣/540|台東縣/390|台東縣/364|台東縣/176|\n",
      "|17|澎湖縣/100|台東縣/828|金門縣/462|金門縣/326|金門縣/201|金門縣/298|金門縣/142|\n",
      "|18|新竹市/64|新竹市/265|新竹市/347|新竹市/196|新竹市/169|嘉義市/160|新竹市/75|\n",
      "|19|嘉義市/45|嘉義市/210|嘉義市/149|嘉義市/144|嘉義市/99|新竹市/137|嘉義市/72|\n",
      "|20|台北市/22|台北市/161|台北市/145|台北市/65|台北市/50|台北市/47|台北市/28|\n",
      "|21|基隆市/9|基隆市/9|基隆市/6|基隆市/2|基隆市/0|基隆市/1|基隆市/0|\n",
      "|22|連江縣/0|連江縣/4|連江縣/2|連江縣/1|連江縣/0|連江縣/0|連江縣/0|\n"
     ]
    }
   ],
   "source": [
    "#縣市各年交易量排名\n",
    "table_dict = {}\n",
    "for y in range(101,108):\n",
    "    sorted_transcation = sorted(taiwan_transacation.items(),key=lambda s:s[1][y], reverse=True)\n",
    "    table_dict[y] = sorted_transcation\n",
    "for i in range(0,22):\n",
    "    print(\"|\"+str(i+1)+\"|\",end='')\n",
    "    for y in range(101,108):\n",
    "        print(table_dict[y][i][0]+\"/\"+str(table_dict[y][i][1][y])+\"|\",end=\"\") \n",
    "    print(\"\")"
   ]
  },
  {
   "cell_type": "code",
   "execution_count": 35,
   "metadata": {},
   "outputs": [
    {
     "name": "stdout",
     "output_type": "stream",
     "text": [
      "全國總交易量:\n",
      "201503\n",
      "\n",
      "[('桃園縣', 30265), ('台南市', 23610), ('彰化縣', 19305), ('台中市', 16740), ('屏東縣', 16401), ('雲林縣', 15002), ('高雄市', 13586), ('嘉義縣', 9876), ('宜蘭縣', 9859), ('南投縣', 8979), ('花蓮縣', 7644), ('新竹縣', 6788), ('苗栗縣', 6710), ('新北市', 4854), ('澎湖縣', 3709), ('台東縣', 3081), ('金門縣', 2410), ('新竹市', 1253), ('嘉義市', 879), ('台北市', 518), ('基隆市', 27), ('連江縣', 7)]\n",
      "\n",
      "|1|桃園縣|30265|\n",
      "|2|台南市|23610|\n",
      "|3|彰化縣|19305|\n",
      "|4|台中市|16740|\n",
      "|5|屏東縣|16401|\n",
      "|6|雲林縣|15002|\n",
      "|7|高雄市|13586|\n",
      "|8|嘉義縣|9876|\n",
      "|9|宜蘭縣|9859|\n",
      "|10|南投縣|8979|\n",
      "|11|花蓮縣|7644|\n",
      "|12|新竹縣|6788|\n",
      "|13|苗栗縣|6710|\n",
      "|14|新北市|4854|\n",
      "|15|澎湖縣|3709|\n",
      "|16|台東縣|3081|\n",
      "|17|金門縣|2410|\n",
      "|18|新竹市|1253|\n",
      "|19|嘉義市|879|\n",
      "|20|台北市|518|\n",
      "|21|基隆市|27|\n",
      "|22|連江縣|7|\n"
     ]
    }
   ],
   "source": [
    "total_transcation = {}\n",
    "for c in list_city:\n",
    "    total_transcation[c] = totalcalculate(taiwan_transacation[c])\n",
    "taiwan_total_transcation = totalcalculate(total_transcation)#全國總交易量\n",
    "print(\"全國總交易量:\")\n",
    "print(taiwan_total_transcation)\n",
    "\n",
    "# # 縣市ㄗㄨㄥ交易量排名\n",
    "table_dict = {}\n",
    "sorted_transcation = sorted(total_transcation.items(),key=lambda s:s[1], reverse=True)\n",
    "for i in range(0,22):\n",
    "    print(\"|\"+str(i+1)+\"|\",end='')\n",
    "    print(sorted_transcation[i][0]+\"|\"+str(sorted_transcation[i][1])+\"|\") "
   ]
  },
  {
   "cell_type": "code",
   "execution_count": null,
   "metadata": {},
   "outputs": [],
   "source": []
  },
  {
   "cell_type": "code",
   "execution_count": null,
   "metadata": {},
   "outputs": [],
   "source": []
  }
 ],
 "metadata": {
  "kernelspec": {
   "display_name": "Python 3",
   "language": "python",
   "name": "python3"
  },
  "language_info": {
   "codemirror_mode": {
    "name": "ipython",
    "version": 3
   },
   "file_extension": ".py",
   "mimetype": "text/x-python",
   "name": "python",
   "nbconvert_exporter": "python",
   "pygments_lexer": "ipython3",
   "version": "3.6.4"
  }
 },
 "nbformat": 4,
 "nbformat_minor": 2
}
