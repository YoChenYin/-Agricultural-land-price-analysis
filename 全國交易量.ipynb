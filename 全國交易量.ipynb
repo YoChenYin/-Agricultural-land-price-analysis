{
 "cells": [
  {
   "cell_type": "code",
   "execution_count": null,
   "metadata": {},
   "outputs": [],
   "source": [
    "%matplotlib inline\n",
    "import numpy as np\n",
    "import matplotlib.pyplot as plt\n",
    "import pandas as pd\n",
    "import matplotlib as  mpl"
   ]
  },
  {
   "cell_type": "code",
   "execution_count": null,
   "metadata": {},
   "outputs": [],
   "source": [
    "mpl.rcParams[u'font.sans-serif'] = ['simhei']\n",
    "mpl.rcParams['axes.unicode_minus'] = False"
   ]
  },
  {
   "cell_type": "code",
   "execution_count": null,
   "metadata": {},
   "outputs": [],
   "source": [
    "def readData(y,s,c):\n",
    "    df = pd.read_csv(\"lvr_land/\"+ y +\"-s\" + s + \"/\" + c + \"_lvr_land_A.csv\",encoding='utf-8',low_memory=False)\n",
    "    return df"
   ]
  },
  {
   "cell_type": "code",
   "execution_count": null,
   "metadata": {},
   "outputs": [],
   "source": [
    "def combineDF(df1,df2):\n",
    "    df = pd.concat([df1,df2],axis = 0)\n",
    "    return df"
   ]
  },
  {
   "cell_type": "code",
   "execution_count": null,
   "metadata": {},
   "outputs": [],
   "source": [
    "def selectFarmland(df):\n",
    "    \n",
    "    df = df[[\"鄉鎮市區\",\"土地移轉總面積(平方公尺)\",\"交易標的\",\"都市土地使用分區\",\"非都市土地使用分區\",\"非都市土地使用編定\",\"總價(元)\",\"單價(元/平方公尺)\"]]\n",
    "    df_farmland = df[((df.交易標的 == \"土地\")&(((df.都市土地使用分區 ==\"農\")&(df.非都市土地使用編定 !=\"丁種建築用地\"))| ((df.非都市土地使用分區 == \"一般農業區\")& (df.非都市土地使用編定 !=\"丁種建築用地\"))|((df.非都市土地使用分區 == '特定農業區')& (df.非都市土地使用編定 !=\"丁種建築用地\")))) ]\n",
    "    \n",
    "    return df_farmland"
   ]
  },
  {
   "cell_type": "code",
   "execution_count": null,
   "metadata": {},
   "outputs": [],
   "source": [
    "def fillNanprice(df_farmland):\n",
    "    #modify zero or nan price\n",
    "    df_ok = df_farmland[(df_farmland[\"單價(元/平方公尺)\"].notnull())&(df_farmland[\"單價(元/平方公尺)\"] != \"0\")]\n",
    "    df = df_farmland[(df_farmland[\"單價(元/平方公尺)\"].isnull())|(df_farmland[\"單價(元/平方公尺)\"] == \"0\")]\n",
    "    df = df[(df['土地移轉總面積(平方公尺)'] != \"0\")&(df['總價(元)'] != \"0\")]\n",
    "    df[\"單價(元/平方公尺)\"] = calculateprice(df['總價(元)'],df['土地移轉總面積(平方公尺)'])\n",
    "    df_farmland = pd.concat([df_ok,df],axis = 0)\n",
    "    return df_farmland"
   ]
  },
  {
   "cell_type": "code",
   "execution_count": null,
   "metadata": {},
   "outputs": [],
   "source": [
    "def transcationNum(df):\n",
    "    return df['鄉鎮市區'].count()"
   ]
  },
  {
   "cell_type": "code",
   "execution_count": null,
   "metadata": {},
   "outputs": [],
   "source": [
    "def calculateprice(total_price,area):\n",
    "    return pd.to_numeric(total_price)/pd.to_numeric(area)"
   ]
  },
  {
   "cell_type": "code",
   "execution_count": null,
   "metadata": {},
   "outputs": [],
   "source": [
    "def totalcalculate(key): \n",
    "    value = sum(key.values())   \n",
    "    return value"
   ]
  },
  {
   "cell_type": "code",
   "execution_count": null,
   "metadata": {},
   "outputs": [],
   "source": [
    "list_cityfilename = ['A','B','C','D','E','F','G','H','I','J','K','M','N','O','P','Q','T','U','V','W','X','Z']\n",
    "list_city = ['台北市','台中市','基隆市','台南市','高雄市','新北市','宜蘭縣','桃園縣','嘉義市','新竹縣','苗栗縣','南投縣','彰化縣','新竹市','雲林縣','嘉義縣','屏東縣','花蓮縣','台東縣','金門縣','澎湖縣','連江縣']\n",
    "\n",
    "i=0\n",
    "taiwan_transacation = {}\n",
    "for c in list_cityfilename: #every city\n",
    "    \n",
    "    s = 4 # from 101-s4 to 107-s2\n",
    "    town_tran_dist = {}\n",
    "    for y in range(101,108): #every year\n",
    "        \n",
    "        df = pd.DataFrame()\n",
    "        \n",
    "        while s <= 4:\n",
    "            # read data\n",
    "            df_s =  readData(str(y),str(s),c)\n",
    "            df = combineDF(df,df_s)\n",
    "\n",
    "            if y == 107 and s == 2:\n",
    "                break\n",
    "            s = s+1\n",
    "        s=1\n",
    "        # select farmland\n",
    "        df_farmland = selectFarmland(df)\n",
    "        # fill nan price\n",
    "        df_farmland = fillNanprice(df_farmland)\n",
    "        \n",
    "        town_tran_dist[y] = transcationNum(df_farmland)\n",
    "    taiwan_transacation[list_city[i]]=town_tran_dist\n",
    "\n",
    "    i = i+1\n"
   ]
  },
  {
   "cell_type": "code",
   "execution_count": null,
   "metadata": {
    "scrolled": true
   },
   "outputs": [],
   "source": [
    "#縣市各年交易量排名\n",
    "table_dict = {}\n",
    "for y in range(101,108):\n",
    "    sorted_transcation = sorted(taiwan_transacation.items(),key=lambda s:s[1][y], reverse=True)\n",
    "    table_dict[y] = sorted_transcation\n",
    "for i in range(0,22):\n",
    "    print(\"|\"+str(i+1)+\"|\",end='')\n",
    "    for y in range(101,108):\n",
    "        print(table_dict[y][i][0]+\"/\"+str(table_dict[y][i][1][y])+\"|\",end=\"\") \n",
    "    print(\"\")"
   ]
  },
  {
   "cell_type": "code",
   "execution_count": null,
   "metadata": {},
   "outputs": [],
   "source": [
    "total_transcation = {}\n",
    "for c in list_city:\n",
    "    total_transcation[c] = totalcalculate(taiwan_transacation[c])\n",
    "taiwan_total_transcation = totalcalculate(total_transcation)#全國總交易量\n",
    "print(\"全國總交易量:\")\n",
    "print(taiwan_total_transcation)\n",
    "\n",
    "# # 縣市ㄗㄨㄥ交易量排名\n",
    "table_dict = {}\n",
    "sorted_transcation = sorted(total_transcation.items(),key=lambda s:s[1], reverse=True)\n",
    "for i in range(0,22):\n",
    "    print(\"|\"+str(i+1)+\"|\",end='')\n",
    "    print(sorted_transcation[i][0]+\"|\"+str(sorted_transcation[i][1])+\"|\") "
   ]
  }
 ],
 "metadata": {
  "kernelspec": {
   "display_name": "Python 3",
   "language": "python",
   "name": "python3"
  },
  "language_info": {
   "codemirror_mode": {
    "name": "ipython",
    "version": 3
   },
   "file_extension": ".py",
   "mimetype": "text/x-python",
   "name": "python",
   "nbconvert_exporter": "python",
   "pygments_lexer": "ipython3",
   "version": "3.6.4"
  }
 },
 "nbformat": 4,
 "nbformat_minor": 2
}
