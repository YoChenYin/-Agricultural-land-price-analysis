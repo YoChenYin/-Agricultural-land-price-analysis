{
 "cells": [
  {
   "cell_type": "code",
   "execution_count": 1,
   "metadata": {},
   "outputs": [],
   "source": [
    "%matplotlib inline\n",
    "import numpy as np\n",
    "import matplotlib.pyplot as plt\n",
    "import pandas as pd\n",
    "import matplotlib as  mpl"
   ]
  },
  {
   "cell_type": "code",
   "execution_count": 2,
   "metadata": {},
   "outputs": [],
   "source": [
    "mpl.rcParams[u'font.sans-serif'] = ['simhei']\n",
    "mpl.rcParams['axes.unicode_minus'] = False"
   ]
  },
  {
   "cell_type": "code",
   "execution_count": 3,
   "metadata": {},
   "outputs": [],
   "source": [
    "def readData(y,s,c):\n",
    "    df = pd.read_csv(\"lvr_land/\"+ y +\"-s\" + s + \"/\" + c + \"_lvr_land_A.csv\",encoding='utf-8',low_memory=False)\n",
    "    return df"
   ]
  },
  {
   "cell_type": "code",
   "execution_count": 4,
   "metadata": {},
   "outputs": [],
   "source": [
    "def combineDF(df1,df2):\n",
    "    df = pd.concat([df1,df2],axis = 0)\n",
    "    return df"
   ]
  },
  {
   "cell_type": "code",
   "execution_count": 5,
   "metadata": {},
   "outputs": [],
   "source": [
    "def selectFarmland(df):\n",
    "    \n",
    "    df = df[[\"鄉鎮市區\",\"土地移轉總面積(平方公尺)\",\"交易標的\",\"都市土地使用分區\",\"非都市土地使用分區\",\"非都市土地使用編定\",\"總價(元)\",\"單價(元/平方公尺)\"]]\n",
    "    df = df[(df.交易標的 == \"房地(土地+建物)\")]  \n",
    "    df_farmland = df[(((df.非都市土地使用分區 == '特定農業區')|(df.非都市土地使用分區 == \"一般農業區\"))&(df.非都市土地使用編定 ==\"農牧用地\"))]\n",
    "    #排除都市土地\n",
    "    df_farmland = df_farmland[df_farmland[\"都市土地使用分區\"].isnull()]\n",
    "    return df_farmland"
   ]
  },
  {
   "cell_type": "code",
   "execution_count": 6,
   "metadata": {},
   "outputs": [],
   "source": [
    "def fillNanprice(df_farmland):\n",
    "    #modify zero or nan price\n",
    "    df_ok = df_farmland[(df_farmland[\"單價(元/平方公尺)\"].notnull())&(df_farmland[\"單價(元/平方公尺)\"] != \"0\")]\n",
    "    df = df_farmland[(df_farmland[\"單價(元/平方公尺)\"].isnull())|(df_farmland[\"單價(元/平方公尺)\"] == \"0\")]\n",
    "    df = df[(df['土地移轉總面積(平方公尺)'] != \"0\")&(df['總價(元)'] != \"0\")]\n",
    "    df[\"單價(元/平方公尺)\"] = calculateprice(df['總價(元)'],df['土地移轉總面積(平方公尺)'])\n",
    "    df_farmland = pd.concat([df_ok,df],axis = 0)\n",
    "    return df_farmland"
   ]
  },
  {
   "cell_type": "code",
   "execution_count": 7,
   "metadata": {},
   "outputs": [],
   "source": [
    "def transcationNum(df):\n",
    "    return df['鄉鎮市區'].count()"
   ]
  },
  {
   "cell_type": "code",
   "execution_count": 8,
   "metadata": {},
   "outputs": [],
   "source": [
    "def calculateprice(total_price,area):\n",
    "    return pd.to_numeric(total_price)/pd.to_numeric(area)"
   ]
  },
  {
   "cell_type": "code",
   "execution_count": 9,
   "metadata": {},
   "outputs": [],
   "source": [
    "def totalcalculate(key): \n",
    "    value = sum(key.values())   \n",
    "    return value"
   ]
  },
  {
   "cell_type": "code",
   "execution_count": 10,
   "metadata": {},
   "outputs": [],
   "source": [
    "list_cityfilename = ['A','B','C','D','E','F','G','H','I','J','K','M','N','O','P','Q','T','U','V']\n",
    "list_city = ['台北市','台中市','基隆市','台南市','高雄市','新北市','宜蘭縣','桃園縣','嘉義市','新竹縣','苗栗縣','南投縣','彰化縣','新竹市','雲林縣','嘉義縣','屏東縣','花蓮縣','台東縣']\n",
    "\n",
    "i=0\n",
    "taiwan_transacation = {}\n",
    "for c in list_cityfilename: #every city\n",
    "    \n",
    "    s = 4 # from 101-s4 to 107-s2\n",
    "    town_tran_dist = {}\n",
    "    for y in range(101,108): #every year\n",
    "        \n",
    "        df = pd.DataFrame()\n",
    "        \n",
    "        while s <= 4:\n",
    "            # read data\n",
    "            df_s =  readData(str(y),str(s),c)\n",
    "            df = combineDF(df,df_s)\n",
    "\n",
    "            if y == 107 and s == 2:\n",
    "                break\n",
    "            s = s+1\n",
    "        s=1\n",
    "        # select farmland\n",
    "        df_farmland = selectFarmland(df)\n",
    "        # fill nan price\n",
    "        df_farmland = fillNanprice(df_farmland)\n",
    "        #縣市各年交易量\n",
    "        town_tran_dist[y] = transcationNum(df_farmland)\n",
    "    #全部縣市各年交易量\n",
    "    taiwan_transacation[list_city[i]]=town_tran_dist\n",
    "\n",
    "    i = i+1\n"
   ]
  },
  {
   "cell_type": "code",
   "execution_count": 17,
   "metadata": {
    "scrolled": true
   },
   "outputs": [
    {
     "name": "stdout",
     "output_type": "stream",
     "text": [
      "縣市各年交易量排名:\n",
      "|排名\\年|101|102|103|104|105|106|107|\n",
      "|1|宜蘭縣/54|宜蘭縣/283|宜蘭縣/375|宜蘭縣/336|宜蘭縣/222|宜蘭縣/184|宜蘭縣/76|\n",
      "|2|桃園縣/17|桃園縣/149|桃園縣/180|彰化縣/170|桃園縣/117|桃園縣/124|桃園縣/66|\n",
      "|3|彰化縣/14|彰化縣/85|彰化縣/163|桃園縣/146|彰化縣/113|彰化縣/106|彰化縣/62|\n",
      "|4|南投縣/12|花蓮縣/77|花蓮縣/98|新竹縣/86|花蓮縣/76|屏東縣/74|屏東縣/37|\n",
      "|5|屏東縣/12|南投縣/63|台中市/95|花蓮縣/85|苗栗縣/64|南投縣/55|苗栗縣/32|\n",
      "|6|花蓮縣/12|雲林縣/58|南投縣/85|南投縣/66|新竹縣/62|花蓮縣/47|南投縣/27|\n",
      "|7|新竹縣/10|苗栗縣/53|苗栗縣/78|雲林縣/61|屏東縣/58|台南市/46|雲林縣/25|\n",
      "|8|台中市/5|台中市/52|新竹縣/67|屏東縣/59|台南市/49|新竹縣/45|花蓮縣/25|\n",
      "|9|嘉義縣/5|台南市/44|雲林縣/48|苗栗縣/58|南投縣/48|雲林縣/43|高雄市/20|\n",
      "|10|台南市/4|屏東縣/40|屏東縣/48|台中市/57|雲林縣/43|台中市/39|嘉義縣/19|\n",
      "|11|苗栗縣/2|新竹縣/37|台南市/45|台南市/38|台中市/32|苗栗縣/37|新竹縣/18|\n",
      "|12|高雄市/1|高雄市/20|高雄市/43|高雄市/35|高雄市/31|高雄市/24|台南市/17|\n",
      "|13|新北市/1|嘉義縣/19|嘉義縣/24|嘉義縣/26|嘉義縣/18|嘉義縣/19|台中市/15|\n",
      "|14|新竹市/1|新竹市/8|台東縣/11|台東縣/18|台東縣/15|台東縣/9|新北市/2|\n",
      "|15|雲林縣/1|台東縣/6|新北市/8|新北市/8|新北市/7|新北市/8|新竹市/2|\n",
      "|16|台北市/0|新北市/4|新竹市/5|台北市/0|台北市/0|新竹市/3|台東縣/1|\n",
      "|17|基隆市/0|台北市/0|台北市/0|基隆市/0|基隆市/0|台北市/0|台北市/0|\n",
      "|18|嘉義市/0|基隆市/0|基隆市/0|嘉義市/0|嘉義市/0|基隆市/0|基隆市/0|\n",
      "|19|台東縣/0|嘉義市/0|嘉義市/0|新竹市/0|新竹市/0|嘉義市/0|嘉義市/0|\n"
     ]
    }
   ],
   "source": [
    "#縣市各年交易量排名\n",
    "print(\"縣市各年交易量排名:\")\n",
    "table_dict = {}\n",
    "for y in range(101,108):\n",
    "    sorted_transcation = sorted(taiwan_transacation.items(),key=lambda s:s[1][y], reverse=True)\n",
    "    table_dict[y] = sorted_transcation\n",
    "print(\"|排名\\年\",end='')\n",
    "for i in range(101,108):\n",
    "    print(\"|\"+str(i),end='')\n",
    "print(\"|\")\n",
    "for i in range(0,19):\n",
    "    print(\"|\"+str(i+1)+\"|\",end='')\n",
    "    for y in range(101,108):\n",
    "        print(table_dict[y][i][0]+\"/\"+str(table_dict[y][i][1][y])+\"|\",end=\"\") \n",
    "    print(\"\")"
   ]
  },
  {
   "cell_type": "code",
   "execution_count": 16,
   "metadata": {},
   "outputs": [
    {
     "name": "stdout",
     "output_type": "stream",
     "text": [
      "全國總交易量:\n",
      "6033\n",
      "縣市總交易量排名:\n",
      "|1|宜蘭縣|1530|\n",
      "|2|桃園縣|799|\n",
      "|3|彰化縣|713|\n",
      "|4|花蓮縣|420|\n",
      "|5|南投縣|356|\n",
      "|6|屏東縣|328|\n",
      "|7|新竹縣|325|\n",
      "|8|苗栗縣|324|\n",
      "|9|台中市|295|\n",
      "|10|雲林縣|279|\n",
      "|11|台南市|243|\n",
      "|12|高雄市|174|\n",
      "|13|嘉義縣|130|\n",
      "|14|台東縣|60|\n",
      "|15|新北市|38|\n",
      "|16|新竹市|19|\n",
      "|17|台北市|0|\n",
      "|18|基隆市|0|\n",
      "|19|嘉義市|0|\n"
     ]
    }
   ],
   "source": [
    "#全國總交易量\n",
    "total_transcation = {}\n",
    "for c in list_city:\n",
    "    total_transcation[c] = totalcalculate(taiwan_transacation[c])\n",
    "taiwan_total_transcation = totalcalculate(total_transcation)\n",
    "print(\"全國總交易量:\")\n",
    "print(taiwan_total_transcation)\n",
    "\n",
    "#縣市總交易量排名\n",
    "print(\"縣市總交易量排名:\")\n",
    "table_dict = {}\n",
    "sorted_transcation = sorted(total_transcation.items(),key=lambda s:s[1], reverse=True)\n",
    "for i in range(0,19):\n",
    "    print(\"|\"+str(i+1)+\"|\",end='')\n",
    "    print(sorted_transcation[i][0]+\"|\"+str(sorted_transcation[i][1])+\"|\") "
   ]
  },
  {
   "cell_type": "code",
   "execution_count": null,
   "metadata": {},
   "outputs": [],
   "source": []
  }
 ],
 "metadata": {
  "kernelspec": {
   "display_name": "Python 3",
   "language": "python",
   "name": "python3"
  },
  "language_info": {
   "codemirror_mode": {
    "name": "ipython",
    "version": 3
   },
   "file_extension": ".py",
   "mimetype": "text/x-python",
   "name": "python",
   "nbconvert_exporter": "python",
   "pygments_lexer": "ipython3",
   "version": "3.6.4"
  }
 },
 "nbformat": 4,
 "nbformat_minor": 2
}
