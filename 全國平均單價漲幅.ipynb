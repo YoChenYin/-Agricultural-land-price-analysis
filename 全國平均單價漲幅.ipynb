{
 "cells": [
  {
   "cell_type": "code",
   "execution_count": 66,
   "metadata": {},
   "outputs": [],
   "source": [
    "%matplotlib inline\n",
    "import numpy as np\n",
    "import matplotlib.pyplot as plt\n",
    "import pandas as pd\n",
    "import matplotlib as  mpl"
   ]
  },
  {
   "cell_type": "code",
   "execution_count": 67,
   "metadata": {},
   "outputs": [],
   "source": [
    "mpl.rcParams[u'font.sans-serif'] = ['simhei']\n",
    "mpl.rcParams['axes.unicode_minus'] = False"
   ]
  },
  {
   "cell_type": "code",
   "execution_count": 68,
   "metadata": {},
   "outputs": [],
   "source": [
    "def readData(y,s,c):\n",
    "    df = pd.read_csv(\"lvr_land/\"+ y +\"-s\" + s + \"/\" + c + \"_lvr_land_A.csv\",encoding='utf-8',low_memory=False)\n",
    "    return df"
   ]
  },
  {
   "cell_type": "code",
   "execution_count": 69,
   "metadata": {},
   "outputs": [],
   "source": [
    "def combineDF(df1,df2):\n",
    "    df = pd.concat([df1,df2],axis = 0)\n",
    "    return df"
   ]
  },
  {
   "cell_type": "code",
   "execution_count": 70,
   "metadata": {},
   "outputs": [],
   "source": [
    "def selectFarmland(df):\n",
    "    \n",
    "    df = df[[\"鄉鎮市區\",\"土地移轉總面積(平方公尺)\",\"交易標的\",\"都市土地使用分區\",\"非都市土地使用分區\",\"非都市土地使用編定\",\"總價(元)\",\"單價(元/平方公尺)\"]]\n",
    "    df_farmland = df[((df.交易標的 == \"土地\")&(((df.都市土地使用分區 ==\"農\")&(df.非都市土地使用編定 !=\"丁種建築用地\"))| ((df.非都市土地使用分區 == \"一般農業區\")& (df.非都市土地使用編定 !=\"丁種建築用地\"))|((df.非都市土地使用分區 == '特定農業區')& (df.非都市土地使用編定 !=\"丁種建築用地\")))) ]\n",
    "    \n",
    "    return df_farmland"
   ]
  },
  {
   "cell_type": "code",
   "execution_count": 71,
   "metadata": {},
   "outputs": [],
   "source": [
    "def fillNanprice(df_farmland):\n",
    "    #modify zero or nan price\n",
    "    df_ok = df_farmland[(df_farmland[\"單價(元/平方公尺)\"].notnull())&(df_farmland[\"單價(元/平方公尺)\"] != \"0\")]\n",
    "    df = df_farmland[(df_farmland[\"單價(元/平方公尺)\"].isnull())|(df_farmland[\"單價(元/平方公尺)\"] == \"0\")]\n",
    "    df = df[(df['土地移轉總面積(平方公尺)'] != \"0\")&(df['總價(元)'] != \"0\")]\n",
    "    df[\"單價(元/平方公尺)\"] = calculateprice(df['總價(元)'],df['土地移轉總面積(平方公尺)'])\n",
    "    df_farmland = pd.concat([df_ok,df],axis = 0)\n",
    "    return df_farmland"
   ]
  },
  {
   "cell_type": "code",
   "execution_count": 72,
   "metadata": {},
   "outputs": [],
   "source": [
    "def calculateprice(total_price,area):\n",
    "    return pd.to_numeric(total_price)/pd.to_numeric(area)"
   ]
  },
  {
   "cell_type": "code",
   "execution_count": 73,
   "metadata": {},
   "outputs": [],
   "source": [
    "def calculateMean(df_farmland):\n",
    "\n",
    "    landpriceMean = pd.to_numeric(df_farmland['單價(元/平方公尺)']).mean()\n",
    "   \n",
    "    return landpriceMean"
   ]
  },
  {
   "cell_type": "code",
   "execution_count": 74,
   "metadata": {},
   "outputs": [],
   "source": [
    "def calculateGain(cityMeandict,div):\n",
    "    \n",
    "    #dict to df\n",
    "    arr = list(cityMeandict.items())\n",
    "    df = pd.DataFrame(arr, columns=['年份','單價'])\n",
    "    \n",
    "    #逐年漲幅\n",
    "    gain = df[\"單價\"].pct_change(div)\n",
    "    \n",
    "    return gain"
   ]
  },
  {
   "cell_type": "code",
   "execution_count": 76,
   "metadata": {},
   "outputs": [
    {
     "name": "stdout",
     "output_type": "stream",
     "text": [
      "{101: 6525.607299135764, 102: 7893.5472148247645, 103: 7968.623572857118, 104: 7413.140830739281, 105: 7194.66496945417, 106: 7110.486659727884, 107: 7308.768965578705}\n"
     ]
    }
   ],
   "source": [
    "list_cityfilename = ['A','B','C','D','E','F','G','H','I','J','K','M','N','O','P','Q','T','U','V','W','X','Z']\n",
    "list_city = ['台北市','台中市','基隆市','台南市','高雄市','新北市','宜蘭縣','桃園縣','嘉義市','新竹縣','苗栗縣','南投縣','彰化縣','新竹市','雲林縣','嘉義縣','屏東縣','花蓮縣','台東縣','金門縣','澎湖縣','連江縣']\n",
    "\n",
    "s=4 #season\n",
    "各年單價平均 ={}\n",
    "\n",
    "for y in range(101,108):\n",
    "    \n",
    "    df = pd.DataFrame()\n",
    "    \n",
    "    while s<=4:\n",
    "        for c in list_cityfilename:\n",
    "            df_s =  readData(str(y),str(s),c)\n",
    "            df = combineDF(df,df_s)\n",
    "        if y == 107 and s == 2:\n",
    "            break\n",
    "        s = s+1\n",
    "    s=1\n",
    "    \n",
    "    # select farmland\n",
    "    df_farmland = selectFarmland(df)\n",
    "    # fill nan price\n",
    "    df_farmland = fillNanprice(df_farmland)\n",
    "    #台灣各年平均單價\n",
    "    各年單價平均[y] = calculateMean(df_farmland)\n",
    "    \n",
    "print(各年單價平均)\n",
    "\n",
    "    "
   ]
  },
  {
   "cell_type": "code",
   "execution_count": 77,
   "metadata": {},
   "outputs": [
    {
     "name": "stdout",
     "output_type": "stream",
     "text": [
      "|101|6525.607299135764|\n",
      "|102|7893.5472148247645|\n",
      "|103|7968.623572857118|\n",
      "|104|7413.140830739281|\n",
      "|105|7194.66496945417|\n",
      "|106|7110.486659727884|\n",
      "|107|7308.768965578705|\n"
     ]
    },
    {
     "data": {
      "image/png": "[encoded data removed]",
      "text/plain": [
       "<matplotlib.figure.Figure at 0x7fb2d9171630>"
      ]
     },
     "metadata": {},
     "output_type": "display_data"
    }
   ],
   "source": [
    "# 台灣各年平均單價 formated\n",
    "for i in range(101,108):\n",
    "    print(\"|\"+str(i)+\"|\",end='')\n",
    "    print(str(各年單價平均[i])+\"|\") \n",
    "# plot 台灣逐年平均\n",
    "plt.plot(各年單價平均.keys(),各年單價平均.values(),marker='o',linestyle='solid')\n",
    "plt.xlabel(\"年\")\n",
    "plt.ylabel(\"平均單價\")\n",
    "plt.title(\"台灣逐年平均單價\")\n",
    "plt.grid()   \n",
    "plt.show()"
   ]
  },
  {
   "cell_type": "code",
   "execution_count": 78,
   "metadata": {},
   "outputs": [
    {
     "name": "stdout",
     "output_type": "stream",
     "text": [
      "|101|nan|\n",
      "|102|20.96264535976855|\n",
      "|103|0.951110520899312|\n",
      "|104|-6.9708744181358195|\n",
      "|105|-2.9471430028575774|\n",
      "|106|-1.1700101406205143|\n",
      "|107|2.7885898017901534|\n"
     ]
    }
   ],
   "source": [
    "#全國各年漲幅 formated\n",
    "gain = calculateGain(各年單價平均,1)\n",
    "#全國總漲幅 formated\n",
    "totalgain = calculateGain(各年單價平均,6)\n",
    "\n",
    "#全國各年漲幅 \n",
    "gain_dict = {}\n",
    "\n",
    "i=101 \n",
    "for g in gain:\n",
    "    gain_dict[i]=g*100 # %\n",
    "    print(\"|\"+str(i)+\"|\",end='')\n",
    "    print(str(g*100)+\"|\") \n",
    "    i+=1\n"
   ]
  },
  {
   "cell_type": "code",
   "execution_count": 79,
   "metadata": {},
   "outputs": [
    {
     "data": {
      "image/png": "[encoded data removed]",
      "text/plain": [
       "<matplotlib.figure.Figure at 0x7fb2de003c88>"
      ]
     },
     "metadata": {},
     "output_type": "display_data"
    }
   ],
   "source": [
    "#plot 台灣逐年漲幅\n",
    "plt.bar(gain_dict.keys(),gain_dict.values())\n",
    "plt.xlabel(\"年\")\n",
    "plt.ylabel(\"%\")\n",
    "plt.title(\"台灣逐年漲幅\")\n",
    "plt.grid()\n",
    "plt.savefig(\"台灣逐年漲幅\")\n",
    "plt.show()"
   ]
  }
 ],
 "metadata": {
  "kernelspec": {
   "display_name": "Python 3",
   "language": "python",
   "name": "python3"
  },
  "language_info": {
   "codemirror_mode": {
    "name": "ipython",
    "version": 3
   },
   "file_extension": ".py",
   "mimetype": "text/x-python",
   "name": "python",
   "nbconvert_exporter": "python",
   "pygments_lexer": "ipython3",
   "version": "3.6.4"
  }
 },
 "nbformat": 4,
 "nbformat_minor": 2
}
