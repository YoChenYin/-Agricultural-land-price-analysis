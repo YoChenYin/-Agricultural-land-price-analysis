{
 "cells": [
  {
   "cell_type": "code",
   "execution_count": 127,
   "metadata": {},
   "outputs": [],
   "source": [
    "%matplotlib inline\n",
    "import numpy as np\n",
    "import matplotlib.pyplot as plt\n",
    "import pandas as pd\n",
    "import matplotlib as  mpl"
   ]
  },
  {
   "cell_type": "code",
   "execution_count": 128,
   "metadata": {},
   "outputs": [],
   "source": [
    "mpl.rcParams[u'font.sans-serif'] = ['simhei']\n",
    "mpl.rcParams['axes.unicode_minus'] = False"
   ]
  },
  {
   "cell_type": "code",
   "execution_count": 129,
   "metadata": {},
   "outputs": [],
   "source": [
    "def readData(y,s,c):\n",
    "    df = pd.read_csv(\"lvr_land/\"+ y +\"-s\" + s + \"/\" + c + \"_lvr_land_A.csv\",encoding='utf-8',low_memory=False)\n",
    "    return df"
   ]
  },
  {
   "cell_type": "code",
   "execution_count": 130,
   "metadata": {},
   "outputs": [],
   "source": [
    "def combineDF(df1,df2):\n",
    "    df = pd.concat([df1,df2],axis = 0)\n",
    "    return df"
   ]
  },
  {
   "cell_type": "code",
   "execution_count": 131,
   "metadata": {},
   "outputs": [],
   "source": [
    "def selectFarmland(df):\n",
    "    \n",
    "    df = df[[\"鄉鎮市區\",\"土地移轉總面積(平方公尺)\",\"交易標的\",\"都市土地使用分區\",\"非都市土地使用分區\",\"非都市土地使用編定\",\"總價(元)\",\"單價(元/平方公尺)\"]]\n",
    "    df_farmland = df[((df.交易標的 == \"土地\")&(((df.都市土地使用分區 ==\"農\")&(df.非都市土地使用編定 !=\"丁種建築用地\"))| ((df.非都市土地使用分區 == \"一般農業區\")& (df.非都市土地使用編定 !=\"丁種建築用地\"))|((df.非都市土地使用分區 == '特定農業區')& (df.非都市土地使用編定 !=\"丁種建築用地\")))) ]\n",
    "    \n",
    "    return df_farmland"
   ]
  },
  {
   "cell_type": "code",
   "execution_count": 132,
   "metadata": {},
   "outputs": [],
   "source": [
    "def fillNanprice(df_farmland):\n",
    "    #modify zero or nan price\n",
    "    df_ok = df_farmland[(df_farmland[\"單價(元/平方公尺)\"].notnull())&(df_farmland[\"單價(元/平方公尺)\"] != \"0\")]\n",
    "    df = df_farmland[(df_farmland[\"單價(元/平方公尺)\"].isnull())|(df_farmland[\"單價(元/平方公尺)\"] == \"0\")]\n",
    "    df = df[(df['土地移轉總面積(平方公尺)'] != \"0\")&(df['總價(元)'] != \"0\")]\n",
    "    df[\"單價(元/平方公尺)\"] = calculateprice(df['總價(元)'],df['土地移轉總面積(平方公尺)'])\n",
    "    df_farmland = pd.concat([df_ok,df],axis = 0)\n",
    "    return df_farmland"
   ]
  },
  {
   "cell_type": "code",
   "execution_count": 133,
   "metadata": {},
   "outputs": [],
   "source": [
    "def grouptown(df,list_all_town):\n",
    "    grouped=pd.to_numeric(df_farmland['單價(元/平方公尺)']).groupby(df_farmland['鄉鎮市區'])\n",
    "    town_dict = {}\n",
    "   \n",
    "    for key,group in grouped:\n",
    "        m = grouped.count()\n",
    "        town_dict[key]= m[key] \n",
    "        if key not in list_all_town:\n",
    "            list_all_town.append(key)\n",
    "    return town_dict\n"
   ]
  },
  {
   "cell_type": "code",
   "execution_count": 134,
   "metadata": {},
   "outputs": [],
   "source": [
    "def transcationNum(df):\n",
    "    return df['鄉鎮市區'].count()"
   ]
  },
  {
   "cell_type": "code",
   "execution_count": 135,
   "metadata": {},
   "outputs": [],
   "source": [
    "def calculateprice(total_price,area):\n",
    "    return pd.to_numeric(total_price)/pd.to_numeric(area)"
   ]
  },
  {
   "cell_type": "code",
   "execution_count": 136,
   "metadata": {},
   "outputs": [],
   "source": [
    "def totalcalculate(key): \n",
    "    value = sum(key.values())   \n",
    "    return value"
   ]
  },
  {
   "cell_type": "code",
   "execution_count": 137,
   "metadata": {},
   "outputs": [],
   "source": [
    "def averagenum(num):\n",
    "    nsum = 0\n",
    "    for i in num:\n",
    "        nsum = nsum + i\n",
    "    return nsum / len(num)"
   ]
  },
  {
   "cell_type": "code",
   "execution_count": null,
   "metadata": {},
   "outputs": [],
   "source": [
    "list_cityfilename = ['A','B','C','D','E','F','G','H','I','J','K','M','N','O','P','Q','T','U','V','W','X','Z']\n",
    "list_city = ['台北市','台中市','基隆市','台南市','高雄市','新北市','宜蘭縣','桃園縣','嘉義市','新竹縣','苗栗縣','南投縣','彰化縣','新竹市','雲林縣','嘉義縣','屏東縣','花蓮縣','台東縣','金門縣','澎湖縣','連江縣']\n",
    "#list_cityfilename = ['H','D','N','B','T']\n",
    "#list_city = ['桃園縣','台南市','彰化縣','台中市','屏東縣']\n",
    "i=0\n",
    "taiwan_transacation = {}#各縣市各年交易量\n",
    "for c in list_cityfilename: #every city\n",
    "    \n",
    "    s = 4 # from 101-s4 to 107-s2\n",
    "    town_tran_dist = {}\n",
    "    鄉鎮逐年交易量 = {}\n",
    "    list_all_town = []\n",
    "    for y in range(101,108): #every year\n",
    "        df = pd.DataFrame()\n",
    "        while s <= 4:\n",
    "            # read data\n",
    "            df_s =  readData(str(y),str(s),c)\n",
    "            df = combineDF(df,df_s)\n",
    "\n",
    "            if y == 107 and s == 2:\n",
    "                break\n",
    "            s = s+1\n",
    "        s=1\n",
    "        # select farmland\n",
    "        df_farmland = selectFarmland(df)\n",
    "        # fill nan price\n",
    "        df_farmland = fillNanprice(df_farmland)\n",
    "        #鄉鎮各年交易量\n",
    "        鄉鎮逐年交易量[str(y)] = grouptown(df_farmland,list_all_town)\n",
    "        #縣市各年交易量\n",
    "        town_tran_dist[y] = transcationNum(df_farmland)\n",
    "        \n",
    "    taiwan_transacation[list_city[i]]=town_tran_dist\n",
    "   \n",
    "    #各鄉鎮101-107總交易量\n",
    "  \n",
    "    鄉鎮={}\n",
    "    鄉鎮歷年交易量 = {}\n",
    "    各鄉鎮加總 = {}\n",
    "    for t in list_all_town:\n",
    "        鄉鎮 = {}\n",
    "        for y in range(101,108):\n",
    "            if t in 鄉鎮逐年交易量[str(y)].keys():\n",
    "                鄉鎮[y] = 鄉鎮逐年交易量[str(y)][t]\n",
    "        鄉鎮歷年交易量[t] = 鄉鎮\n",
    "        各鄉鎮加總[t]=totalcalculate(鄉鎮歷年交易量[t])\n",
    "        \n",
    "    #鄉鎮總交易量排名\n",
    "    sorted_transcation = sorted(各鄉鎮加總.items(),key=lambda s:s[1], reverse=True)\n",
    "    \n",
    "    for s in range(len(list_all_town)):\n",
    "        print(\"|\"+str(s+1)+\"|\",end='')\n",
    "        print(sorted_transcation[s][0]+\"/\"+str(sorted_transcation[s][1])+\"|\") \n",
    "    i = i+1\n",
    "\n"
   ]
  },
  {
   "cell_type": "code",
   "execution_count": null,
   "metadata": {},
   "outputs": [],
   "source": [
    "y_taiwan_transcation = {}\n",
    "for y in range(101,108):\n",
    "    年度交易量 = []\n",
    "    for c in list_city:      \n",
    "        年度交易量.append(taiwan_transacation[c][y])\n",
    "    y_taiwan_transcation[y] = sum(年度交易量)\n",
    "\n",
    "#平均交易量\n",
    "print(\"平均交易量\")\n",
    "print(averagenum(y_taiwan_transcation.values()))\n",
    "\n",
    "for i in range(101,108):\n",
    "    print(\"|\"+str(i)+\"|\",end='')\n",
    "    print(str(y_taiwan_transcation[i])+\"|\") \n"
   ]
  },
  {
   "cell_type": "code",
   "execution_count": null,
   "metadata": {
    "scrolled": true
   },
   "outputs": [],
   "source": [
    "#縣市各年交易量排名\n",
    "print(\"縣市各年交易量排名\")\n",
    "table_dict = {}\n",
    "for y in range(101,108):\n",
    "    sorted_transcation = sorted(taiwan_transacation.items(),key=lambda s:s[1][y], reverse=True)\n",
    "    table_dict[y] = sorted_transcation\n",
    "for i in range(0,22):\n",
    "    print(\"|\"+str(i+1)+\"|\",end='')\n",
    "    for y in range(101,108):\n",
    "        print(table_dict[y][i][0]+\"/\"+str(table_dict[y][i][1][y])+\"|\",end=\"\") \n",
    "    print(\"\")"
   ]
  },
  {
   "cell_type": "code",
   "execution_count": null,
   "metadata": {},
   "outputs": [],
   "source": [
    "#各縣市101-107總交易量\n",
    "print(\"各縣市101-107總交易量\")\n",
    "total_transcation = {}\n",
    "for c in list_city:\n",
    "    total_transcation[c] = totalcalculate(taiwan_transacation[c])\n",
    "\n",
    "table_dict = {}\n",
    "sorted_transcation = sorted(total_transcation.items(),key=lambda s:s[1], reverse=True)\n",
    "print(\"\")\n",
    "print(sorted_transcation)\n",
    "print(\"\")\n",
    "for i in range(0,22):\n",
    "    print(\"|\"+str(i+1)+\"|\",end='')\n",
    "    print(sorted_transcation[i][0]+\"|\"+str(sorted_transcation[i][1])+\"|\") "
   ]
  }
 ],
 "metadata": {
  "kernelspec": {
   "display_name": "Python 3",
   "language": "python",
   "name": "python3"
  },
  "language_info": {
   "codemirror_mode": {
    "name": "ipython",
    "version": 3
   },
   "file_extension": ".py",
   "mimetype": "text/x-python",
   "name": "python",
   "nbconvert_exporter": "python",
   "pygments_lexer": "ipython3",
   "version": "3.6.4"
  }
 },
 "nbformat": 4,
 "nbformat_minor": 2
}
