{
 "cells": [
  {
   "cell_type": "code",
   "execution_count": 99,
   "metadata": {},
   "outputs": [],
   "source": [
    "%matplotlib inline\n",
    "import numpy as np\n",
    "import matplotlib.pyplot as plt\n",
    "import pandas as pd\n",
    "import matplotlib as  mpl"
   ]
  },
  {
   "cell_type": "code",
   "execution_count": 100,
   "metadata": {},
   "outputs": [],
   "source": [
    "mpl.rcParams[u'font.sans-serif'] = ['simhei']\n",
    "mpl.rcParams['axes.unicode_minus'] = False"
   ]
  },
  {
   "cell_type": "code",
   "execution_count": 101,
   "metadata": {},
   "outputs": [],
   "source": [
    "def read_data(y,s,c):\n",
    "    df = pd.read_csv(\"lvr_land/\"+ y +\"-s\" + s + \"/\" + c + \"_lvr_land_A.csv\",encoding='utf-8',low_memory=False)\n",
    "    \n",
    "    return df"
   ]
  },
  {
   "cell_type": "code",
   "execution_count": 102,
   "metadata": {},
   "outputs": [],
   "source": [
    "def combine_DF(df1,df2):\n",
    "    df = pd.concat([df1,df2],axis = 0)\n",
    "    return df"
   ]
  },
  {
   "cell_type": "code",
   "execution_count": 103,
   "metadata": {},
   "outputs": [],
   "source": [
    "def select_farmland(df):\n",
    "    \n",
    "    df = df[[\"鄉鎮市區\",\"土地移轉總面積(平方公尺)\",\"交易標的\",\"都市土地使用分區\",\"非都市土地使用分區\",\"非都市土地使用編定\",\"總價(元)\",\"單價(元/平方公尺)\"]]\n",
    "    df = df[(df.交易標的 == \"土地\")]  \n",
    "    df_farmland = df[(((df.非都市土地使用分區 == '特定農業區')|(df.非都市土地使用分區 == \"一般農業區\"))&(df.非都市土地使用編定 ==\"農牧用地\"))]\n",
    "    #排除都市土地\n",
    "    df_farmland = df_farmland[df_farmland[\"都市土地使用分區\"].isnull()]\n",
    "    return df_farmland"
   ]
  },
  {
   "cell_type": "code",
   "execution_count": 104,
   "metadata": {},
   "outputs": [],
   "source": [
    "def fill_nan_price(df_farmland):\n",
    "    #modify zero or nan price\n",
    "    df_ok = df_farmland[(df_farmland[\"單價(元/平方公尺)\"].notnull())&(df_farmland[\"單價(元/平方公尺)\"] != \"0\")]\n",
    "    df = df_farmland[(df_farmland[\"單價(元/平方公尺)\"].isnull())|(df_farmland[\"單價(元/平方公尺)\"] == \"0\")]\n",
    "    df = df[(df['土地移轉總面積(平方公尺)'] != \"0\")&(df['總價(元)'] != \"0\")]\n",
    "    df[\"單價(元/平方公尺)\"] = calculate_price(df['總價(元)'],df['土地移轉總面積(平方公尺)'])\n",
    "    df_farmland = pd.concat([df_ok,df],axis = 0)\n",
    "    return df_farmland"
   ]
  },
  {
   "cell_type": "code",
   "execution_count": 105,
   "metadata": {},
   "outputs": [],
   "source": [
    "def calculate_price(total_price,area):\n",
    "    return pd.to_numeric(total_price)/pd.to_numeric(area)"
   ]
  },
  {
   "cell_type": "code",
   "execution_count": 106,
   "metadata": {},
   "outputs": [],
   "source": [
    "def calculate_mean(df_farmland):\n",
    "\n",
    "    landpriceMean = pd.to_numeric(df_farmland['單價(元/平方公尺)']).mean()\n",
    "   \n",
    "    return landpriceMean"
   ]
  },
  {
   "cell_type": "code",
   "execution_count": 107,
   "metadata": {},
   "outputs": [],
   "source": [
    "def calculate_gain(cityMeandict,div):\n",
    "    \n",
    "    #dict to df\n",
    "    arr = list(cityMeandict.items())\n",
    "    df = pd.DataFrame(arr, columns=['年份','單價'])\n",
    "    \n",
    "    #逐年漲幅\n",
    "    gain = df[\"單價\"].pct_change(div)\n",
    "    \n",
    "    return gain"
   ]
  },
  {
   "cell_type": "code",
   "execution_count": 108,
   "metadata": {},
   "outputs": [],
   "source": [
    "def group_data(start_year,end_year,start_season,end_season,list_cityfilename):\n",
    "    \n",
    "    s = start_season\n",
    "    df = pd.DataFrame()\n",
    "    for y in range(start_year,end_year+1):\n",
    "   \n",
    "        while s<=4:\n",
    "            for c in list_cityfilename:\n",
    "                df_s =  readData(str(y),str(s),c)\n",
    "                df = combineDF(df,df_s)\n",
    "                \n",
    "            if y == end_year and s == end_season:\n",
    "                break\n",
    "            s = s+1\n",
    "        s=1\n",
    "    # select farmland\n",
    "    df_farmland = selectFarmland(df)\n",
    "    # fill nan price\n",
    "    df_farmland = fillNanprice(df_farmland)\n",
    "    return df_farmland "
   ]
  },
  {
   "cell_type": "code",
   "execution_count": 109,
   "metadata": {},
   "outputs": [],
   "source": [
    "list_cityfilename = ['A','B','C','D','E','F','G','H','I','J','K','M','N','O','P','Q','T','U','V']\n",
    "list_city = ['台北市','台中市','基隆市','台南市','高雄市','新北市','宜蘭縣','桃園縣','嘉義市','新竹縣','苗栗縣','南投縣','彰化縣','新竹市','雲林縣','嘉義縣','屏東縣','花蓮縣','台東縣']\n",
    "\n",
    "START_SEASON = 4\n",
    "END_SEASON = 2\n",
    "START_YEAR = 101\n",
    "END_YEAR = 107\n",
    "s=START_SEASON \n",
    "\n",
    "aver_price_per_year ={}\n",
    "\n",
    "for y in range(START_YEAR,END_YEAR+1):\n",
    "    \n",
    "    df = pd.DataFrame()\n",
    "    \n",
    "    while s<=4:\n",
    "        for c in list_cityfilename:\n",
    "            df_s =  read_data(str(y),str(s),c)\n",
    "            df = combine_DF(df,df_s)\n",
    "        if y == END_YEAR and s == END_SEASON:\n",
    "            break\n",
    "        s = s+1\n",
    "    s=1\n",
    "    \n",
    "    # select farmland\n",
    "    df_farmland = select_farmland(df)\n",
    "    # fill nan price\n",
    "    df_farmland = fill_nan_price(df_farmland)\n",
    "    \n",
    "    #台灣各年平均單價\n",
    "    aver_price_per_year[y] = calculate_mean(df_farmland)*3.3058 #1ping = 3.3058 m^2"
   ]
  },
  {
   "cell_type": "code",
   "execution_count": 111,
   "metadata": {},
   "outputs": [
    {
     "name": "stdout",
     "output_type": "stream",
     "text": [
      "各年單價平均\n",
      "|年|101|102|103|104|105|106|107|\n",
      "|單價（坪）|11760.7|15217.7|15573.7|13437.0|12767.2|12191.1|12145.4|\n"
     ]
    }
   ],
   "source": [
    "print(\"各年單價平均\")\n",
    "print(\"|年\",end='')\n",
    "for i in range(101,108):\n",
    "    print(\"|\"+str(i),end='')\n",
    "print(\"|\")\n",
    "print(\"|單價（坪）\",end='')\n",
    "for key in aver_price_per_year:\n",
    "    print(\"|\"+\"{:.1f}\".format( aver_price_per_year[key]),end='')\n",
    "print(\"|\")"
   ]
  },
  {
   "cell_type": "code",
   "execution_count": 112,
   "metadata": {},
   "outputs": [
    {
     "data": {
      "image/png": "[encoded data removed]",
      "text/plain": [
       "<matplotlib.figure.Figure at 0x7fbe1d9227f0>"
      ]
     },
     "metadata": {},
     "output_type": "display_data"
    }
   ],
   "source": [
    "# plot 台灣逐年平均\n",
    "plt.plot( aver_price_per_year.keys(), aver_price_per_year.values(),marker='o',linestyle='solid')\n",
    "plt.xlabel(\"年\")\n",
    "plt.ylabel(\"平均單價\")\n",
    "plt.title(\"全國各年度平均單價\")\n",
    "plt.grid() \n",
    "plt.savefig(\"全國各年度平均單價\")\n",
    "plt.show()"
   ]
  },
  {
   "cell_type": "code",
   "execution_count": 113,
   "metadata": {},
   "outputs": [
    {
     "name": "stdout",
     "output_type": "stream",
     "text": [
      "early year average\n",
      "13755.4\n",
      "recent year average\n",
      "12089.5\n"
     ]
    }
   ],
   "source": [
    "list_cityfilename = ['A','B','C','D','E','F','G','H','I','J','K','M','N','O','P','Q','T','U','V']\n",
    "list_city = ['台北市','台中市','基隆市','台南市','高雄市','新北市','宜蘭縣','桃園縣','嘉義市','新竹縣','苗栗縣','南投縣','彰化縣','新竹市','雲林縣','嘉義縣','屏東縣','花蓮縣','台東縣']\n",
    "\n",
    "price ={}\n",
    "#early\n",
    "EARLY_START_SEASON = 4\n",
    "EARLY_END_SEASON = 3\n",
    "EARLY_START_YEAR = 101\n",
    "EARLY_END_YEAR = 102\n",
    "\n",
    "print(\"early year average\")\n",
    "df_farmland = group_data(EARLY_START_YEAR,EARLY_END_YEAR,EARLY_START_SEASON,EARLY_END_SEASON,list_cityfilename)    \n",
    "price[0] = calculateMean(df_farmland)*3.3058 #1ping = 3.3058 m^2\n",
    "print(\"{:.1f}\".format(price[0]))\n",
    "\n",
    "#recent\n",
    "\n",
    "RECENT_START_SEASON = 3\n",
    "RECENT_END_SEASON = 2\n",
    "RECENT_START_YEAR = 106\n",
    "RECENT_END_YEAR = 107\n",
    "\n",
    "print(\"recent year average\")\n",
    "df_farmland = group_data(RECENT_START_YEAR,RECENT_END_YEAR,RECENT_START_SEASON,RECENT_END_SEASON,list_cityfilename)    \n",
    "price[1] = calculateMean(df_farmland)*3.3058 #1ping = 3.3058 m^2\n",
    "print(\"{:.1f}\".format(price[1]))\n",
    "    "
   ]
  },
  {
   "cell_type": "code",
   "execution_count": 114,
   "metadata": {},
   "outputs": [
    {
     "name": "stdout",
     "output_type": "stream",
     "text": [
      "全國總漲幅\n",
      "-12.1%\n"
     ]
    }
   ],
   "source": [
    "#全國總漲幅 \n",
    "gain = calculateGain(price,1)\n",
    "print(\"全國總漲幅\")\n",
    "print(\"{:.1f}\".format(gain[1]*100)+\"%\")\n",
    "\n"
   ]
  },
  {
   "cell_type": "code",
   "execution_count": null,
   "metadata": {},
   "outputs": [],
   "source": []
  }
 ],
 "metadata": {
  "kernelspec": {
   "display_name": "Python 3",
   "language": "python",
   "name": "python3"
  },
  "language_info": {
   "codemirror_mode": {
    "name": "ipython",
    "version": 3
   },
   "file_extension": ".py",
   "mimetype": "text/x-python",
   "name": "python",
   "nbconvert_exporter": "python",
   "pygments_lexer": "ipython3",
   "version": "3.6.4"
  }
 },
 "nbformat": 4,
 "nbformat_minor": 2
}
